{
 "cells": [
  {
   "cell_type": "code",
   "execution_count": 1,
   "id": "866e0c29-ed9c-43b9-a9c0-869bda5b1ac4",
   "metadata": {},
   "outputs": [],
   "source": [
    "import re"
   ]
  },
  {
   "cell_type": "markdown",
   "id": "861603b3-a19a-4699-96b9-db22b19dc893",
   "metadata": {},
   "source": [
    "**To search for a match** function: re.match"
   ]
  },
  {
   "cell_type": "code",
   "execution_count": 7,
   "id": "f970b289-c4f3-45f8-9764-c8e0d9d3ab57",
   "metadata": {},
   "outputs": [
    {
     "name": "stdout",
     "output_type": "stream",
     "text": [
      "<re.Match object; span=(0, 2), match='We'>\n"
     ]
    }
   ],
   "source": [
    "result = re.match('We', 'We will learn Regular Expression today.')\n",
    "print(result)"
   ]
  },
  {
   "cell_type": "code",
   "execution_count": 11,
   "id": "d8902135-0c50-4760-bce7-19cb6621cf16",
   "metadata": {},
   "outputs": [
    {
     "name": "stdout",
     "output_type": "stream",
     "text": [
      "None\n"
     ]
    }
   ],
   "source": [
    "result_2 = re.match('largest', 'We will learn Regular Expression today.')\n",
    "print(result_2)"
   ]
  },
  {
   "cell_type": "markdown",
   "id": "cb84bc6b-e34a-4e97-9b1c-e647de13890f",
   "metadata": {},
   "source": [
    "**To search for a Pattern** function: re.search\n"
   ]
  },
  {
   "cell_type": "code",
   "execution_count": 23,
   "id": "71cd87de-316d-42c3-ad80-82426401cf01",
   "metadata": {},
   "outputs": [
    {
     "name": "stdout",
     "output_type": "stream",
     "text": [
      "<re.Match object; span=(10, 17), match='founded'>\n"
     ]
    }
   ],
   "source": [
    "result = re.search('founded',r'Andrew NG founded Coursera. He also founded dedede')\n",
    "print(result)"
   ]
  },
  {
   "cell_type": "markdown",
   "id": "9996b187-d93d-47ad-b951-66530a810391",
   "metadata": {},
   "source": [
    "**To search for all occurrences of the pattern in the string** function: re.findall \n",
    "*better than re.search and re.match as it combines both of them*"
   ]
  },
  {
   "cell_type": "code",
   "execution_count": 43,
   "id": "0f570087-4937-4a5d-abfb-fb35f5ed7675",
   "metadata": {},
   "outputs": [],
   "source": [
    "result = re.findall('founded', r'Andrew NG founded Coursera. He is also founded deedede')"
   ]
  },
  {
   "cell_type": "markdown",
   "id": "50488045-3144-4589-b9b8-7f0a3daf004b",
   "metadata": {},
   "source": [
    "**For Patterns**"
   ]
  },
  {
   "cell_type": "markdown",
   "id": "34cb8699-fb67-47b2-930f-cdad82a45c2e",
   "metadata": {},
   "source": [
    "#1. /b\n",
    "*/b returns a match where the specified pattern is at the beginning or at the end of the world*"
   ]
  },
  {
   "cell_type": "code",
   "execution_count": 52,
   "id": "8de653d0-1016-4d35-81c8-1de86a21b00e",
   "metadata": {},
   "outputs": [],
   "source": [
    "st = 'QA is the largest and smartest Ed-tech platform in the UK'"
   ]
  },
  {
   "cell_type": "code",
   "execution_count": 56,
   "id": "01aea546-6863-47ae-9b75-ed806810f18a",
   "metadata": {},
   "outputs": [
    {
     "name": "stdout",
     "output_type": "stream",
     "text": [
      "['est', 'est']\n"
     ]
    }
   ],
   "source": [
    "x=re.findall(r'est\\b', st)\n",
    "print(x)"
   ]
  },
  {
   "cell_type": "code",
   "execution_count": 58,
   "id": "74e7cd91-700d-41ef-b2b0-db4883328dd0",
   "metadata": {},
   "outputs": [
    {
     "name": "stdout",
     "output_type": "stream",
     "text": [
      "['largest', 'smartest']\n"
     ]
    }
   ],
   "source": [
    "x = re.findall(r'\\b\\w+est\\b', st)\n",
    "print(x)"
   ]
  },
  {
   "cell_type": "code",
   "execution_count": null,
   "id": "2fff7ba2-a2c7-4de1-a34d-8e6f08092fed",
   "metadata": {},
   "outputs": [],
   "source": []
  }
 ],
 "metadata": {
  "kernelspec": {
   "display_name": "Python 3 (ipykernel)",
   "language": "python",
   "name": "python3"
  },
  "language_info": {
   "codemirror_mode": {
    "name": "ipython",
    "version": 3
   },
   "file_extension": ".py",
   "mimetype": "text/x-python",
   "name": "python",
   "nbconvert_exporter": "python",
   "pygments_lexer": "ipython3",
   "version": "3.12.4"
  }
 },
 "nbformat": 4,
 "nbformat_minor": 5
}
